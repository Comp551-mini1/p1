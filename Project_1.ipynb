{
 "cells": [
  {
   "cell_type": "code",
   "execution_count": 5,
   "source": [
    "import pandas as pd\r\n",
    "import numpy as np\r\n",
    "import sklearn as sk\r\n",
    "\r\n",
    "header = ['age','workclass','fnlwgt','education','education-num','marital-status','occupation',\r\n",
    "       'relationship','race','sex','capital-gain','capital-loss','hours-per-week','native-country','salary']\r\n",
    "data_df = pd.read_csv(r'F:\\COMP551\\p1\\Adult Dataset\\adult.data',header = None,na_values = ' ?',names = header)\r\n",
    "test_df = pd.read_csv(r'F:\\COMP551\\p1\\Adult Dataset\\adult.test',header = None,na_values = ' ?',names = header)"
   ],
   "outputs": [],
   "metadata": {}
  },
  {
   "cell_type": "markdown",
   "source": [],
   "metadata": {}
  },
  {
   "cell_type": "code",
   "execution_count": 6,
   "source": [
    "euclidean = lambda x1, x2: np.sqrt(np.sum((x1 - x2)**2, axis=-1))\r\n",
    "manhattan = lambda x1, x2: np.sum(np.abs(x1 - x2), axis=-1)\r\n",
    "\r\n",
    "class KNN:\r\n",
    "\r\n",
    "    def __init__(self, K=1, dist_fn= euclidean):\r\n",
    "        self.dist_fn = dist_fn\r\n",
    "        self.K = K\r\n",
    "        return\r\n",
    "    \r\n",
    "    def fit(self, x, y):\r\n",
    "        ''' Store the training data using this method as it is a lazy learner'''\r\n",
    "        self.x = x\r\n",
    "        self.y = y\r\n",
    "        self.C = np.max(y) + 1\r\n",
    "        return self\r\n",
    "    \r\n",
    "    def predict(self, x_test):\r\n",
    "        ''' Makes a prediction using the stored training data and the test data given as argument'''\r\n",
    "        num_test = x_test.shape[0]\r\n",
    "        #calculate distance between the training & test samples and returns an array of shape [num_test, num_train]\r\n",
    "        distances = self.dist_fn(self.x[None,:,:], x_test[:,None,:])\r\n",
    "        #ith-row of knns stores the indices of k closest training samples to the ith-test sample \r\n",
    "        knns = np.zeros((num_test, self.K), dtype=int)\r\n",
    "        #ith-row of y_prob has the probability distribution over C classes\r\n",
    "        y_prob = np.zeros((num_test, self.C))\r\n",
    "        for i in range(num_test):\r\n",
    "            knns[i,:] = np.argsort(distances[i])[:self.K]\r\n",
    "            y_prob[i,:] = np.bincount(self.y[knns[i,:]], minlength=self.C) #counts the number of instances of each class in the K-closest training samples\r\n",
    "        #y_prob /= np.sum(y_prob, axis=-1, keepdims=True)\r\n",
    "        #simply divide by K to get a probability distribution\r\n",
    "        y_prob /= self.K\r\n",
    "        return y_prob, knns"
   ],
   "outputs": [],
   "metadata": {}
  },
  {
   "cell_type": "code",
   "execution_count": 7,
   "source": [
    "def split(dataset, folds):\r\n",
    "\t\r\n",
    "\treturn np.array_split(dataset, folds)\r\n",
    "\r\n",
    "test = split(data_df, 5)"
   ],
   "outputs": [],
   "metadata": {}
  },
  {
   "cell_type": "code",
   "execution_count": 8,
   "source": [
    "def cross_validation(dataset, folds, K):\r\n",
    "    \r\n",
    "    best_acc = 0\r\n",
    "    best_config = 0\r\n",
    "    best_model = KNN(K=0)\r\n",
    "    \r\n",
    "    for k in np.arange(1,K):\r\n",
    "\r\n",
    "        model = KNN(K=K)\r\n",
    "        \r\n",
    "        result = list()\r\n",
    "        \r\n",
    "        data_splited = split(dataset, folds)\r\n",
    "        \r\n",
    "        for i in range(folds):\r\n",
    "            \r\n",
    "            validation = data_splited[i]\r\n",
    "            training = list()\r\n",
    "\r\n",
    "            for j in range(folds):\r\n",
    "\r\n",
    "                if j != i :\r\n",
    "                    \r\n",
    "\r\n",
    "            \r\n",
    "\r\n",
    "    \r\n",
    "        \r\n",
    "        "
   ],
   "outputs": [],
   "metadata": {}
  }
 ],
 "metadata": {
  "kernelspec": {
   "name": "python3",
   "display_name": "Python 3.9.7 64-bit"
  },
  "language_info": {
   "codemirror_mode": {
    "name": "ipython",
    "version": 3
   },
   "file_extension": ".py",
   "mimetype": "text/x-python",
   "name": "python",
   "nbconvert_exporter": "python",
   "pygments_lexer": "ipython3",
   "version": "3.9.7"
  },
  "interpreter": {
   "hash": "8081b0232990547be11c1afa6bbf03b3050be37c58b9978f4662cf079ff3eb53"
  }
 },
 "nbformat": 4,
 "nbformat_minor": 5
}